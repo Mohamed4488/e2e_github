{
 "cells": [
  {
   "cell_type": "markdown",
   "id": "47e43adc",
   "metadata": {},
   "source": [
    "## Import Libraries"
   ]
  },
  {
   "cell_type": "code",
   "execution_count": 3,
   "id": "4576aee6",
   "metadata": {},
   "outputs": [],
   "source": [
    "import os\n",
    "import pandas as pd\n",
    "from sklearn.model_selection import train_test_split\n",
    "from sklearn.preprocessing import LabelEncoder\n",
    "import torch\n",
    "import torch.onnx\n",
    "from torch.utils.data import Dataset, DataLoader\n",
    "import torch.nn as nn\n",
    "import torch.optim as optim"
   ]
  },
  {
   "cell_type": "markdown",
   "id": "7d1ff0f4",
   "metadata": {},
   "source": [
    "## Load Data"
   ]
  },
  {
   "cell_type": "code",
   "execution_count": 4,
   "id": "c0051319",
   "metadata": {},
   "outputs": [],
   "source": [
    "os.chdir(\"..\")"
   ]
  },
  {
   "cell_type": "code",
   "execution_count": 5,
   "id": "506b6359",
   "metadata": {},
   "outputs": [
    {
     "data": {
      "text/plain": [
       "'d:\\\\Projects\\\\AI_projects\\\\e2e_github'"
      ]
     },
     "execution_count": 5,
     "metadata": {},
     "output_type": "execute_result"
    }
   ],
   "source": [
    "os.getcwd()"
   ]
  },
  {
   "cell_type": "code",
   "execution_count": 6,
   "metadata": {},
   "outputs": [],
   "source": [
    "df = pd.read_csv(r\"data\\Titanic-Dataset.csv\")"
   ]
  },
  {
   "cell_type": "markdown",
   "id": "183282db",
   "metadata": {},
   "source": [
    "## Preproccessing"
   ]
  },
  {
   "cell_type": "code",
   "execution_count": 7,
   "metadata": {},
   "outputs": [],
   "source": [
    "df = df[[\"Pclass\", \"Sex\", \"Age\", \"SibSp\", \"Parch\", \"Fare\", \"Embarked\", \"Survived\"]]\n",
    "df = df.dropna()"
   ]
  },
  {
   "cell_type": "markdown",
   "id": "7a22db51",
   "metadata": {},
   "source": [
    "## Encode Categorical variables"
   ]
  },
  {
   "cell_type": "code",
   "execution_count": 8,
   "id": "7764dd91",
   "metadata": {},
   "outputs": [],
   "source": [
    "df[\"Sex\"] = LabelEncoder().fit_transform(df[\"Sex\"])\n",
    "df[\"Embarked\"] = LabelEncoder().fit_transform(df[\"Embarked\"])"
   ]
  },
  {
   "cell_type": "markdown",
   "id": "134176b3",
   "metadata": {},
   "source": [
    "## Features and Labels"
   ]
  },
  {
   "cell_type": "code",
   "execution_count": 9,
   "metadata": {},
   "outputs": [],
   "source": [
    "x = df.drop(\"Survived\", axis=1).values\n",
    "y = df[\"Survived\"].values"
   ]
  },
  {
   "cell_type": "markdown",
   "id": "0801c196",
   "metadata": {},
   "source": [
    "## Train Test Split"
   ]
  },
  {
   "cell_type": "code",
   "execution_count": 10,
   "metadata": {},
   "outputs": [],
   "source": [
    "x_train, x_test, y_train, y_test = train_test_split(x, y, test_size=0.2, random_state=42)"
   ]
  },
  {
   "cell_type": "code",
   "execution_count": 11,
   "metadata": {},
   "outputs": [
    {
     "data": {
      "text/plain": [
       "(569, 7)"
      ]
     },
     "execution_count": 11,
     "metadata": {},
     "output_type": "execute_result"
    }
   ],
   "source": [
    "x_train.shape"
   ]
  },
  {
   "cell_type": "markdown",
   "id": "f0410fc4",
   "metadata": {},
   "source": [
    "## Build Dataset"
   ]
  },
  {
   "cell_type": "code",
   "execution_count": 12,
   "metadata": {},
   "outputs": [],
   "source": [
    "class TitanicDataset(Dataset):\n",
    "    def __init__(self, x, y):\n",
    "        self.x = torch.tensor(x, dtype=torch.float32)\n",
    "        self.y = torch.tensor(y, dtype=torch.float32)   \n",
    "        \n",
    "    def __len__(self):\n",
    "        return len(self.y)\n",
    "    \n",
    "    def __getitem__(self, idx):\n",
    "        return self.x[idx], self.y[idx]\n",
    "    \n",
    "train_ds = TitanicDataset(x_train, y_train)\n",
    "train_loader = DataLoader(train_ds, batch_size=16, shuffle=True)"
   ]
  },
  {
   "cell_type": "markdown",
   "id": "3936dead",
   "metadata": {},
   "source": [
    "## Build Model"
   ]
  },
  {
   "cell_type": "code",
   "execution_count": 13,
   "metadata": {},
   "outputs": [],
   "source": [
    "class TitanicModel(nn.Module):\n",
    "    def __init__(self):\n",
    "        super(TitanicModel, self).__init__()\n",
    "        self.net = nn.Sequential(\n",
    "            nn.Linear(x_train.shape[1], 16),\n",
    "            nn.ReLU(),\n",
    "            nn.Linear(16, 8),\n",
    "            nn.ReLU(),\n",
    "            nn.Linear(8, 1),\n",
    "            nn.Sigmoid()\n",
    "        )\n",
    "        \n",
    "    def forward(self, x):\n",
    "        return self.net(x)\n",
    "    \n",
    "model = TitanicModel()\n",
    "criterion = nn.BCELoss()\n",
    "optimizer = optim.Adam(model.parameters(), lr=0.001)"
   ]
  },
  {
   "cell_type": "markdown",
   "id": "1b07f083",
   "metadata": {},
   "source": [
    "## Train"
   ]
  },
  {
   "cell_type": "code",
   "execution_count": 14,
   "metadata": {},
   "outputs": [
    {
     "name": "stdout",
     "output_type": "stream",
     "text": [
      "Epoch 1, Loss:  0.765218\n",
      "Epoch 2, Loss:  0.594184\n",
      "Epoch 3, Loss:  0.680883\n",
      "Epoch 4, Loss:  0.429023\n",
      "Epoch 5, Loss:  0.656018\n",
      "Epoch 6, Loss:  0.820642\n",
      "Epoch 7, Loss:  0.568831\n",
      "Epoch 8, Loss:  0.482989\n",
      "Epoch 9, Loss:  0.436573\n",
      "Epoch 10, Loss:  0.692035\n",
      "Epoch 11, Loss:  0.559253\n",
      "Epoch 12, Loss:  0.461448\n",
      "Epoch 13, Loss:  0.815061\n",
      "Epoch 14, Loss:  0.597040\n",
      "Epoch 15, Loss:  0.597840\n",
      "Epoch 16, Loss:  0.433972\n",
      "Epoch 17, Loss:  0.416503\n",
      "Epoch 18, Loss:  0.725736\n",
      "Epoch 19, Loss:  0.645563\n",
      "Epoch 20, Loss:  0.681057\n",
      "Epoch 21, Loss:  0.708795\n",
      "Epoch 22, Loss:  0.553554\n",
      "Epoch 23, Loss:  0.587530\n",
      "Epoch 24, Loss:  0.478481\n",
      "Epoch 25, Loss:  0.333081\n",
      "Epoch 26, Loss:  0.605488\n",
      "Epoch 27, Loss:  0.493680\n",
      "Epoch 28, Loss:  0.425360\n",
      "Epoch 29, Loss:  0.381100\n",
      "Epoch 30, Loss:  0.284647\n",
      "Epoch 31, Loss:  0.374374\n",
      "Epoch 32, Loss:  0.409824\n",
      "Epoch 33, Loss:  0.498373\n",
      "Epoch 34, Loss:  0.560754\n",
      "Epoch 35, Loss:  0.319230\n",
      "Epoch 36, Loss:  0.864308\n",
      "Epoch 37, Loss:  0.409215\n",
      "Epoch 38, Loss:  0.444398\n",
      "Epoch 39, Loss:  0.489457\n",
      "Epoch 40, Loss:  0.862119\n",
      "Epoch 41, Loss:  0.500365\n",
      "Epoch 42, Loss:  0.434749\n",
      "Epoch 43, Loss:  0.476711\n",
      "Epoch 44, Loss:  0.281938\n",
      "Epoch 45, Loss:  0.445938\n",
      "Epoch 46, Loss:  0.606340\n",
      "Epoch 47, Loss:  0.634163\n",
      "Epoch 48, Loss:  0.514981\n",
      "Epoch 49, Loss:  0.325492\n",
      "Epoch 50, Loss:  0.420783\n",
      "Epoch 51, Loss:  0.340701\n",
      "Epoch 52, Loss:  0.305411\n",
      "Epoch 53, Loss:  0.354065\n",
      "Epoch 54, Loss:  0.448196\n",
      "Epoch 55, Loss:  0.481515\n",
      "Epoch 56, Loss:  0.391469\n",
      "Epoch 57, Loss:  0.300101\n",
      "Epoch 58, Loss:  0.454818\n",
      "Epoch 59, Loss:  0.335584\n",
      "Epoch 60, Loss:  0.616694\n",
      "Epoch 61, Loss:  0.188303\n",
      "Epoch 62, Loss:  0.410550\n",
      "Epoch 63, Loss:  0.422975\n",
      "Epoch 64, Loss:  0.455300\n",
      "Epoch 65, Loss:  0.481639\n",
      "Epoch 66, Loss:  0.907958\n",
      "Epoch 67, Loss:  0.245167\n",
      "Epoch 68, Loss:  0.433503\n",
      "Epoch 69, Loss:  0.778641\n",
      "Epoch 70, Loss:  0.603546\n",
      "Epoch 71, Loss:  0.198458\n",
      "Epoch 72, Loss:  0.191924\n",
      "Epoch 73, Loss:  0.365991\n",
      "Epoch 74, Loss:  0.308102\n",
      "Epoch 75, Loss:  0.420138\n",
      "Epoch 76, Loss:  0.433722\n",
      "Epoch 77, Loss:  0.935814\n",
      "Epoch 78, Loss:  0.304142\n",
      "Epoch 79, Loss:  0.479757\n",
      "Epoch 80, Loss:  0.449739\n",
      "Epoch 81, Loss:  0.286869\n",
      "Epoch 82, Loss:  0.204904\n",
      "Epoch 83, Loss:  0.787578\n",
      "Epoch 84, Loss:  0.532051\n",
      "Epoch 85, Loss:  0.480866\n",
      "Epoch 86, Loss:  0.416474\n",
      "Epoch 87, Loss:  0.426387\n",
      "Epoch 88, Loss:  0.219902\n",
      "Epoch 89, Loss:  0.338368\n",
      "Epoch 90, Loss:  0.546329\n",
      "Epoch 91, Loss:  0.389592\n",
      "Epoch 92, Loss:  0.621118\n",
      "Epoch 93, Loss:  0.482991\n",
      "Epoch 94, Loss:  0.315320\n",
      "Epoch 95, Loss:  0.239812\n",
      "Epoch 96, Loss:  0.543577\n",
      "Epoch 97, Loss:  0.266609\n",
      "Epoch 98, Loss:  0.794764\n",
      "Epoch 99, Loss:  0.273314\n",
      "Epoch 100, Loss:  0.477024\n"
     ]
    }
   ],
   "source": [
    "for epoch in range(100):\n",
    "    for x_batch, y_batch in train_loader:\n",
    "        optimizer.zero_grad()\n",
    "        outputs = model(x_batch).squeeze()\n",
    "        loss = criterion(outputs, y_batch)\n",
    "        loss.backward()\n",
    "        optimizer.step()\n",
    "    print(f\"Epoch {epoch+1}, Loss: {loss.item(): 4f}\")"
   ]
  },
  {
   "cell_type": "markdown",
   "id": "b21ea422",
   "metadata": {},
   "source": [
    "## Save Model"
   ]
  },
  {
   "cell_type": "code",
   "execution_count": 15,
   "metadata": {},
   "outputs": [
    {
     "name": "stdout",
     "output_type": "stream",
     "text": [
      "Model saved as titanic_model.pth\n"
     ]
    }
   ],
   "source": [
    "torch.save(model.state_dict(), \"models/titanic_model.pth\")\n",
    "print(\"Model saved as titanic_model.pth\")"
   ]
  },
  {
   "cell_type": "markdown",
   "id": "baa1d7a2",
   "metadata": {},
   "source": [
    "## Using onnx to save the model"
   ]
  },
  {
   "cell_type": "code",
   "execution_count": 17,
   "id": "79b57d60",
   "metadata": {},
   "outputs": [
    {
     "name": "stdout",
     "output_type": "stream",
     "text": [
      "Model saved as titanic_model.onnx\n"
     ]
    }
   ],
   "source": [
    "dummy_input = torch.randn(1, x_train.shape[1])\n",
    "\n",
    "torch.onnx.export(\n",
    "    model,\n",
    "    dummy_input,\n",
    "    \"models/titanic_model.onnx\",\n",
    "    export_params = True,\n",
    "    opset_version= 11,\n",
    "    do_constant_folding= True,\n",
    "    input_names = [\"input\"],\n",
    "    output_names = [\"output\"],\n",
    "    dynamic_axes= {\"input\": {0: \"batch_size\"}, \"output\": {0: \"batch_size\"}}\n",
    ")\n",
    "\n",
    "print(\"Model saved as titanic_model.onnx\")"
   ]
  },
  {
   "cell_type": "code",
   "execution_count": null,
   "metadata": {},
   "outputs": [],
   "source": []
  }
 ],
 "metadata": {
  "kernelspec": {
   "display_name": "env",
   "language": "python",
   "name": "python3"
  },
  "language_info": {
   "codemirror_mode": {
    "name": "ipython",
    "version": 3
   },
   "file_extension": ".py",
   "mimetype": "text/x-python",
   "name": "python",
   "nbconvert_exporter": "python",
   "pygments_lexer": "ipython3",
   "version": "3.11.11"
  }
 },
 "nbformat": 4,
 "nbformat_minor": 5
}
